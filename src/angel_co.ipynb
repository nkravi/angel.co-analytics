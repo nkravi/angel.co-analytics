{
 "metadata": {
  "name": ""
 },
 "nbformat": 3,
 "nbformat_minor": 0,
 "worksheets": [
  {
   "cells": [
    {
     "cell_type": "raw",
     "metadata": {},
     "source": [
      "In this project we are going to do some basic analytics on startups job website angel.co.\n",
      "For this we took companies filtered by tags ['united states','full time','software Engineer']\n",
      "The imput is present in data/company-ids.txt"
     ]
    },
    {
     "cell_type": "code",
     "collapsed": false,
     "input": [
      "import pymongo\n",
      "from pymongo import MongoClient\n",
      "import json\n",
      "from urllib2 import Request, urlopen, URLError\n",
      "import numpy as np\n",
      "from collections import Counter\n",
      "import plotly.plotly as py\n",
      "from plotly.graph_objs import *"
     ],
     "language": "python",
     "metadata": {},
     "outputs": []
    },
    {
     "cell_type": "raw",
     "metadata": {},
     "source": [
      "Read company ids from input file"
     ]
    },
    {
     "cell_type": "code",
     "collapsed": false,
     "input": [
      "with open('../data/company-ids.txt') as f:\n",
      "    input_file = json.loads(f.read())\n",
      "    print 'read %d company ids'%(len(input_file['ids']))"
     ],
     "language": "python",
     "metadata": {},
     "outputs": [
      {
       "output_type": "stream",
       "stream": "stdout",
       "text": [
        "read 3349 company ids\n"
       ]
      }
     ],
     "prompt_number": 2
    },
    {
     "cell_type": "raw",
     "metadata": {},
     "source": [
      "your access token goes here"
     ]
    },
    {
     "cell_type": "code",
     "collapsed": false,
     "input": [
      "access_token = 'YOUR_ACCESS_TOKEN'"
     ],
     "language": "python",
     "metadata": {},
     "outputs": [],
     "prompt_number": 3
    },
    {
     "cell_type": "raw",
     "metadata": {},
     "source": [
      "conifg database. We would do more analytics on data  its better to save it to database.\n",
      "We are using mongo db as our database "
     ]
    },
    {
     "cell_type": "code",
     "collapsed": false,
     "input": [
      "client = MongoClient('localhost', 27017)\n",
      "db = client['angel-co-db']\n",
      "collection = db['angel-co-collection']"
     ],
     "language": "python",
     "metadata": {},
     "outputs": [],
     "prompt_number": 14
    },
    {
     "cell_type": "raw",
     "metadata": {},
     "source": [
      "Iterate through company ids and insert to DB"
     ]
    },
    {
     "cell_type": "code",
     "collapsed": false,
     "input": [
      "count = 0;\n",
      "for company_id in input_file['ids']:\n",
      "    url = 'https://api.angel.co/1/startups/'+str(company_id)+'?access_token='+access_token\n",
      "    try:\n",
      "        response = urlopen(url)\n",
      "        out = json.loads(response.read())\n",
      "        collection.update({'_id':str(company_id)},out,True)\n",
      "        count = count + 1\n",
      "        if count%100 == 0:\n",
      "            print 'inserted %d records'%(count)\n",
      "    except URLError, e:\n",
      "        print 'error in url', e\n",
      "        break\n",
      "    except:\n",
      "        print 'some error occured'\n",
      "        break"
     ],
     "language": "python",
     "metadata": {},
     "outputs": [
      {
       "output_type": "stream",
       "stream": "stdout",
       "text": [
        "inserted 100 records\n",
        "inserted 200 records"
       ]
      },
      {
       "output_type": "stream",
       "stream": "stdout",
       "text": [
        "\n",
        "inserted 300 records"
       ]
      },
      {
       "output_type": "stream",
       "stream": "stdout",
       "text": [
        "\n",
        "inserted 400 records"
       ]
      },
      {
       "output_type": "stream",
       "stream": "stdout",
       "text": [
        "\n",
        "inserted 500 records"
       ]
      },
      {
       "output_type": "stream",
       "stream": "stdout",
       "text": [
        "\n",
        "inserted 600 records"
       ]
      },
      {
       "output_type": "stream",
       "stream": "stdout",
       "text": [
        "\n",
        "inserted 700 records"
       ]
      },
      {
       "output_type": "stream",
       "stream": "stdout",
       "text": [
        "\n",
        "inserted 800 records"
       ]
      },
      {
       "output_type": "stream",
       "stream": "stdout",
       "text": [
        "\n",
        "inserted 900 records"
       ]
      },
      {
       "output_type": "stream",
       "stream": "stdout",
       "text": [
        "\n",
        "inserted 1000 records"
       ]
      },
      {
       "output_type": "stream",
       "stream": "stdout",
       "text": [
        "\n",
        "inserted 1100 records"
       ]
      },
      {
       "output_type": "stream",
       "stream": "stdout",
       "text": [
        "\n",
        "inserted 1200 records"
       ]
      },
      {
       "output_type": "stream",
       "stream": "stdout",
       "text": [
        "\n",
        "inserted 1300 records"
       ]
      },
      {
       "output_type": "stream",
       "stream": "stdout",
       "text": [
        "\n",
        "inserted 1400 records"
       ]
      },
      {
       "output_type": "stream",
       "stream": "stdout",
       "text": [
        "\n",
        "inserted 1500 records"
       ]
      },
      {
       "output_type": "stream",
       "stream": "stdout",
       "text": [
        "\n",
        "inserted 1600 records"
       ]
      },
      {
       "output_type": "stream",
       "stream": "stdout",
       "text": [
        "\n",
        "inserted 1700 records"
       ]
      },
      {
       "output_type": "stream",
       "stream": "stdout",
       "text": [
        "\n",
        "inserted 1800 records"
       ]
      },
      {
       "output_type": "stream",
       "stream": "stdout",
       "text": [
        "\n",
        "inserted 1900 records"
       ]
      },
      {
       "output_type": "stream",
       "stream": "stdout",
       "text": [
        "\n",
        "inserted 2000 records"
       ]
      },
      {
       "output_type": "stream",
       "stream": "stdout",
       "text": [
        "\n",
        "inserted 2100 records"
       ]
      },
      {
       "output_type": "stream",
       "stream": "stdout",
       "text": [
        "\n",
        "inserted 2200 records"
       ]
      },
      {
       "output_type": "stream",
       "stream": "stdout",
       "text": [
        "\n",
        "inserted 2300 records"
       ]
      },
      {
       "output_type": "stream",
       "stream": "stdout",
       "text": [
        "\n",
        "inserted 2400 records"
       ]
      },
      {
       "output_type": "stream",
       "stream": "stdout",
       "text": [
        "\n",
        "inserted 2500 records"
       ]
      },
      {
       "output_type": "stream",
       "stream": "stdout",
       "text": [
        "\n",
        "inserted 2600 records"
       ]
      },
      {
       "output_type": "stream",
       "stream": "stdout",
       "text": [
        "\n",
        "inserted 2700 records"
       ]
      },
      {
       "output_type": "stream",
       "stream": "stdout",
       "text": [
        "\n",
        "inserted 2800 records"
       ]
      },
      {
       "output_type": "stream",
       "stream": "stdout",
       "text": [
        "\n",
        "inserted 2900 records"
       ]
      },
      {
       "output_type": "stream",
       "stream": "stdout",
       "text": [
        "\n",
        "inserted 3000 records"
       ]
      },
      {
       "output_type": "stream",
       "stream": "stdout",
       "text": [
        "\n",
        "inserted 3100 records"
       ]
      },
      {
       "output_type": "stream",
       "stream": "stdout",
       "text": [
        "\n",
        "error in url"
       ]
      },
      {
       "output_type": "stream",
       "stream": "stdout",
       "text": [
        " HTTP Error 403: Forbidden\n"
       ]
      }
     ],
     "prompt_number": 22
    },
    {
     "cell_type": "code",
     "collapsed": false,
     "input": [
      "print 'There are %d Records in Database'%(collection.find({}).count())"
     ],
     "language": "python",
     "metadata": {},
     "outputs": [
      {
       "output_type": "stream",
       "stream": "stdout",
       "text": [
        "There are 3186 Records in Database\n"
       ]
      }
     ],
     "prompt_number": 24
    },
    {
     "cell_type": "raw",
     "metadata": {},
     "source": [
      "Now lets do some visualization to see how data looks like\n",
      "We will be loading all data to memory as our dataset is small"
     ]
    },
    {
     "cell_type": "code",
     "collapsed": false,
     "input": [
      "db_data=[]\n",
      "for doc in collection.find({}):\n",
      "    db_data = db_data + [doc]"
     ],
     "language": "python",
     "metadata": {},
     "outputs": [],
     "prompt_number": 35
    },
    {
     "cell_type": "raw",
     "metadata": {},
     "source": [
      "Add your plotly credentials here https://plot.ly"
     ]
    },
    {
     "cell_type": "code",
     "collapsed": false,
     "input": [
      "py.sign_in('user_name', 'api_key')"
     ],
     "language": "python",
     "metadata": {},
     "outputs": []
    },
    {
     "cell_type": "code",
     "collapsed": false,
     "input": [
      "tmp_lst = []\n",
      "for doc in db_data:\n",
      "    for location in doc['locations']:\n",
      "        if location['tag_type'] == 'LocationTag':\n",
      "            tmp_lst = tmp_lst + [location['name']]\n",
      "cnt = Counter(tmp_lst).most_common(15)"
     ],
     "language": "python",
     "metadata": {},
     "outputs": [],
     "prompt_number": 50
    },
    {
     "cell_type": "heading",
     "level": 2,
     "metadata": {},
     "source": [
      "Cities with most number of startups"
     ]
    },
    {
     "cell_type": "code",
     "collapsed": false,
     "input": [
      "fig = {\n",
      "    'data': [{'labels': [k[0] for k in cnt],\n",
      "              'values': [k[1] for k in cnt],\n",
      "              'type': 'pie'}],\n",
      "    'layout': {'title': 'Top ten cities with most number of startups'}\n",
      "}\n",
      "\n",
      "py.iplot(fig, validate=False, filename='number of startups')"
     ],
     "language": "python",
     "metadata": {},
     "outputs": [
      {
       "html": [
        "<iframe id=\"igraph\" scrolling=\"no\" style=\"border:none;\"seamless=\"seamless\" src=\"https://plot.ly/~nravi89/6.embed\" height=\"525px\" width=\"100%\"></iframe>"
       ],
       "metadata": {},
       "output_type": "pyout",
       "prompt_number": 58,
       "text": [
        "<plotly.tools.PlotlyDisplay at 0x7f00ce1644d0>"
       ]
      }
     ],
     "prompt_number": 58
    },
    {
     "cell_type": "heading",
     "level": 2,
     "metadata": {},
     "source": [
      "Company followers Count"
     ]
    },
    {
     "cell_type": "code",
     "collapsed": false,
     "input": [
      "tmp_lst = []\n",
      "for doc in db_data:\n",
      "    if doc['follower_count']:\n",
      "        tmp_lst = tmp_lst + [doc['follower_count']]"
     ],
     "language": "python",
     "metadata": {},
     "outputs": [],
     "prompt_number": 53
    },
    {
     "cell_type": "code",
     "collapsed": false,
     "input": [
      "data = Data([\n",
      "    Box(\n",
      "        y=tmp_lst,\n",
      "        boxpoints='all',\n",
      "        jitter=0.3,\n",
      "        pointpos=-1.8\n",
      "    )\n",
      "])\n",
      "py.iplot(data)"
     ],
     "language": "python",
     "metadata": {},
     "outputs": [
      {
       "html": [
        "<iframe id=\"igraph\" scrolling=\"no\" style=\"border:none;\"seamless=\"seamless\" src=\"https://plot.ly/~nravi89/10.embed\" height=\"525px\" width=\"100%\"></iframe>"
       ],
       "metadata": {},
       "output_type": "pyout",
       "prompt_number": 60,
       "text": [
        "<plotly.tools.PlotlyDisplay at 0x7f00ce164c10>"
       ]
      }
     ],
     "prompt_number": 60
    },
    {
     "cell_type": "code",
     "collapsed": false,
     "input": [
      "data = Data([\n",
      "    Histogram(\n",
      "        x=tmp_lst\n",
      "    )\n",
      "])\n",
      "py.iplot(data, filename='basic-histogram')"
     ],
     "language": "python",
     "metadata": {},
     "outputs": [
      {
       "html": [
        "<iframe id=\"igraph\" scrolling=\"no\" style=\"border:none;\"seamless=\"seamless\" src=\"https://plot.ly/~nravi89/12.embed\" height=\"525px\" width=\"100%\"></iframe>"
       ],
       "metadata": {},
       "output_type": "pyout",
       "prompt_number": 63,
       "text": [
        "<plotly.tools.PlotlyDisplay at 0x7f00ce164990>"
       ]
      }
     ],
     "prompt_number": 63
    },
    {
     "cell_type": "heading",
     "level": 2,
     "metadata": {},
     "source": [
      "Number of Employees"
     ]
    },
    {
     "cell_type": "code",
     "collapsed": false,
     "input": [
      "tmp_lst = []\n",
      "for doc in db_data:\n",
      "    if doc['company_size']:\n",
      "        tmp_lst = tmp_lst + [doc['company_size']]\n",
      "cnt = Counter(tmp_lst).most_common(15)"
     ],
     "language": "python",
     "metadata": {},
     "outputs": [],
     "prompt_number": 85
    },
    {
     "cell_type": "code",
     "collapsed": false,
     "input": [
      "fig = {\n",
      "    'data': [{'labels': [k[0] for k in cnt],\n",
      "              'values': [k[1] for k in cnt],\n",
      "              'type': 'pie'}],\n",
      "    'layout': {'title': 'Number of Employees'}\n",
      "}\n",
      "\n",
      "py.iplot(fig, validate=False, filename='number of employees')"
     ],
     "language": "python",
     "metadata": {},
     "outputs": [
      {
       "html": [
        "<iframe id=\"igraph\" scrolling=\"no\" style=\"border:none;\"seamless=\"seamless\" src=\"https://plot.ly/~nravi89/14.embed\" height=\"525px\" width=\"100%\"></iframe>"
       ],
       "metadata": {},
       "output_type": "pyout",
       "prompt_number": 87,
       "text": [
        "<plotly.tools.PlotlyDisplay at 0x7f00ce1fb7d0>"
       ]
      }
     ],
     "prompt_number": 87
    }
   ],
   "metadata": {}
  }
 ]
}